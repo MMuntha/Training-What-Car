{
 "cells": [
  {
   "cell_type": "code",
   "execution_count": 1,
   "metadata": {},
   "outputs": [],
   "source": [
    "from tensorflow.keras.layers import Input, Lambda, Dense, Flatten\n",
    "from tensorflow.keras.models import Model\n",
    "#from tensorflow.keras.applications.resnet50 import ResNet50\n",
    "from keras.applications.vgg16 import VGG16\n",
    "#from keras.applications.xception import Xception\n",
    "#tf.keras.applications.xception.preprocess_input\n",
    "#from tensorflow.keras.applications.resnet50 import preprocess_input\n",
    "#from tensorflow.keras.applications.xception import preprocess_input\n",
    "from tensorflow.keras.applications.vgg16 import preprocess_input\n",
    "#tf.keras.applications.vgg16.preprocess_input\n",
    "from tensorflow.keras.preprocessing import image\n",
    "from tensorflow.keras.preprocessing.image import ImageDataGenerator,load_img\n",
    "from tensorflow.keras.models import Sequential\n",
    "import numpy as np\n",
    "from glob import glob\n"
   ]
  },
  {
   "cell_type": "code",
   "execution_count": 2,
   "metadata": {},
   "outputs": [],
   "source": [
    "IMAGE_SIZE = [224, 224]\n",
    "\n",
    "train_path = 'Datasets/train'\n",
    "valid_path = 'Datasets/test'"
   ]
  },
  {
   "cell_type": "code",
   "execution_count": null,
   "metadata": {},
   "outputs": [],
   "source": []
  },
  {
   "cell_type": "code",
   "execution_count": null,
   "metadata": {},
   "outputs": [],
   "source": []
  },
  {
   "cell_type": "code",
   "execution_count": 3,
   "metadata": {},
   "outputs": [],
   "source": [
    "resnet = VGG16(input_shape = IMAGE_SIZE + [3], weights='imagenet', include_top = False)"
   ]
  },
  {
   "cell_type": "code",
   "execution_count": 4,
   "metadata": {},
   "outputs": [],
   "source": [
    "for layer in resnet.layers:\n",
    "    layer.trainable = False"
   ]
  },
  {
   "cell_type": "code",
   "execution_count": 5,
   "metadata": {},
   "outputs": [],
   "source": [
    "folders = glob('Datasets/train/*') #training folders"
   ]
  },
  {
   "cell_type": "code",
   "execution_count": 6,
   "metadata": {},
   "outputs": [
    {
     "data": {
      "text/plain": [
       "['Datasets/train\\\\Allion',\n",
       " 'Datasets/train\\\\Caravan',\n",
       " 'Datasets/train\\\\Hiace',\n",
       " 'Datasets/train\\\\Premio',\n",
       " 'Datasets/train\\\\Vezel']"
      ]
     },
     "execution_count": 6,
     "metadata": {},
     "output_type": "execute_result"
    }
   ],
   "source": [
    "folders"
   ]
  },
  {
   "cell_type": "code",
   "execution_count": 7,
   "metadata": {},
   "outputs": [],
   "source": [
    "x = Flatten()(resnet.output)"
   ]
  },
  {
   "cell_type": "code",
   "execution_count": 8,
   "metadata": {},
   "outputs": [],
   "source": [
    "#setting the length of the folders as output using dense"
   ]
  },
  {
   "cell_type": "code",
   "execution_count": 9,
   "metadata": {},
   "outputs": [],
   "source": [
    "prediction = Dense(len(folders), activation='softmax') (x) \n",
    "\n",
    "#creating the model object\n",
    "model = Model(inputs = resnet.input, outputs = prediction)"
   ]
  },
  {
   "cell_type": "code",
   "execution_count": 10,
   "metadata": {},
   "outputs": [],
   "source": [
    "model.compile(\n",
    "    loss = 'categorical_crossentropy',\n",
    "    optimizer = 'adam',\n",
    "    metrics = ['accuracy']\n",
    ")"
   ]
  },
  {
   "cell_type": "code",
   "execution_count": 11,
   "metadata": {},
   "outputs": [],
   "source": [
    "train_datagen = ImageDataGenerator(rescale = 1./255,\n",
    "                                  shear_range = 0.2,\n",
    "                                  zoom_range = 0.2,\n",
    "                                  horizontal_flip = True)\n",
    "\n",
    "test_datagen = ImageDataGenerator(rescale = 1./255)"
   ]
  },
  {
   "cell_type": "code",
   "execution_count": 12,
   "metadata": {},
   "outputs": [
    {
     "name": "stdout",
     "output_type": "stream",
     "text": [
      "Found 3772 images belonging to 5 classes.\n"
     ]
    }
   ],
   "source": [
    "training_set = train_datagen.flow_from_directory('Datasets/train',\n",
    "                                                target_size = (224, 224),\n",
    "                                                batch_size = 32,\n",
    "                                                class_mode = 'categorical')"
   ]
  },
  {
   "cell_type": "code",
   "execution_count": 13,
   "metadata": {},
   "outputs": [
    {
     "name": "stdout",
     "output_type": "stream",
     "text": [
      "Found 101 images belonging to 5 classes.\n"
     ]
    }
   ],
   "source": [
    "test_set = test_datagen.flow_from_directory('Datasets/test',\n",
    "                                            target_size = (224, 224),\n",
    "                                            batch_size = 32,\n",
    "                                            class_mode = 'categorical')"
   ]
  },
  {
   "cell_type": "code",
   "execution_count": 14,
   "metadata": {
    "scrolled": false
   },
   "outputs": [
    {
     "name": "stdout",
     "output_type": "stream",
     "text": [
      "Epoch 1/100\n",
      "118/118 [==============================] - 63s 404ms/step - loss: 1.0847 - accuracy: 0.5681 - val_loss: 0.7338 - val_accuracy: 0.7030\n",
      "Epoch 2/100\n",
      "118/118 [==============================] - 38s 322ms/step - loss: 0.5756 - accuracy: 0.7741 - val_loss: 0.5577 - val_accuracy: 0.7327\n",
      "Epoch 3/100\n",
      "118/118 [==============================] - 38s 324ms/step - loss: 0.4397 - accuracy: 0.8332 - val_loss: 0.7514 - val_accuracy: 0.6931\n",
      "Epoch 4/100\n",
      "118/118 [==============================] - 39s 325ms/step - loss: 0.3761 - accuracy: 0.8579 - val_loss: 0.5342 - val_accuracy: 0.8218\n",
      "Epoch 5/100\n",
      "118/118 [==============================] - 39s 329ms/step - loss: 0.3404 - accuracy: 0.8661 - val_loss: 0.5432 - val_accuracy: 0.8119\n",
      "Epoch 6/100\n",
      "118/118 [==============================] - 40s 334ms/step - loss: 0.3142 - accuracy: 0.8815 - val_loss: 0.3982 - val_accuracy: 0.8713\n",
      "Epoch 7/100\n",
      "118/118 [==============================] - 39s 330ms/step - loss: 0.2404 - accuracy: 0.9120 - val_loss: 0.4865 - val_accuracy: 0.8218\n",
      "Epoch 8/100\n",
      "118/118 [==============================] - 39s 329ms/step - loss: 0.2465 - accuracy: 0.9080 - val_loss: 0.5009 - val_accuracy: 0.8317\n",
      "Epoch 9/100\n",
      "118/118 [==============================] - 39s 329ms/step - loss: 0.1829 - accuracy: 0.9361 - val_loss: 0.3531 - val_accuracy: 0.8515\n",
      "Epoch 10/100\n",
      "118/118 [==============================] - 39s 331ms/step - loss: 0.2034 - accuracy: 0.9271 - val_loss: 0.7282 - val_accuracy: 0.7624\n",
      "Epoch 11/100\n",
      "118/118 [==============================] - 39s 332ms/step - loss: 0.1964 - accuracy: 0.9263 - val_loss: 0.4645 - val_accuracy: 0.8614\n",
      "Epoch 12/100\n",
      "118/118 [==============================] - 39s 332ms/step - loss: 0.1807 - accuracy: 0.9372 - val_loss: 0.3955 - val_accuracy: 0.8416\n",
      "Epoch 13/100\n",
      "118/118 [==============================] - 39s 333ms/step - loss: 0.1696 - accuracy: 0.9361 - val_loss: 0.4880 - val_accuracy: 0.8020\n",
      "Epoch 14/100\n",
      "118/118 [==============================] - 39s 331ms/step - loss: 0.1544 - accuracy: 0.9454 - val_loss: 0.3384 - val_accuracy: 0.9010\n",
      "Epoch 15/100\n",
      "118/118 [==============================] - 39s 331ms/step - loss: 0.1488 - accuracy: 0.9491 - val_loss: 0.3713 - val_accuracy: 0.8713\n",
      "Epoch 16/100\n",
      "118/118 [==============================] - 39s 333ms/step - loss: 0.1112 - accuracy: 0.9629 - val_loss: 0.4456 - val_accuracy: 0.8515\n",
      "Epoch 17/100\n",
      "118/118 [==============================] - 39s 331ms/step - loss: 0.1208 - accuracy: 0.9581 - val_loss: 0.4207 - val_accuracy: 0.8812\n",
      "Epoch 18/100\n",
      "118/118 [==============================] - 41s 346ms/step - loss: 0.0898 - accuracy: 0.9740 - val_loss: 0.3319 - val_accuracy: 0.8713\n",
      "Epoch 19/100\n",
      "118/118 [==============================] - 40s 338ms/step - loss: 0.0994 - accuracy: 0.9677 - val_loss: 0.4146 - val_accuracy: 0.8416\n",
      "Epoch 20/100\n",
      "118/118 [==============================] - 40s 335ms/step - loss: 0.0995 - accuracy: 0.9677 - val_loss: 0.4184 - val_accuracy: 0.8515\n",
      "Epoch 21/100\n",
      "118/118 [==============================] - 39s 332ms/step - loss: 0.1072 - accuracy: 0.9639 - val_loss: 0.3339 - val_accuracy: 0.8614\n",
      "Epoch 22/100\n",
      "118/118 [==============================] - 39s 333ms/step - loss: 0.1037 - accuracy: 0.9618 - val_loss: 0.5181 - val_accuracy: 0.8515\n",
      "Epoch 23/100\n",
      "118/118 [==============================] - 39s 333ms/step - loss: 0.0741 - accuracy: 0.9764 - val_loss: 0.4653 - val_accuracy: 0.8416\n",
      "Epoch 24/100\n",
      "118/118 [==============================] - 40s 335ms/step - loss: 0.0895 - accuracy: 0.9708 - val_loss: 0.4371 - val_accuracy: 0.8317\n",
      "Epoch 25/100\n",
      "118/118 [==============================] - 40s 334ms/step - loss: 0.0783 - accuracy: 0.9732 - val_loss: 0.4388 - val_accuracy: 0.8515\n",
      "Epoch 26/100\n",
      "118/118 [==============================] - 40s 333ms/step - loss: 0.0751 - accuracy: 0.9751 - val_loss: 0.4864 - val_accuracy: 0.8416\n",
      "Epoch 27/100\n",
      "118/118 [==============================] - 40s 334ms/step - loss: 0.0936 - accuracy: 0.9671 - val_loss: 0.5573 - val_accuracy: 0.8416\n",
      "Epoch 28/100\n",
      "118/118 [==============================] - 40s 334ms/step - loss: 0.1138 - accuracy: 0.9605 - val_loss: 0.4661 - val_accuracy: 0.8218\n",
      "Epoch 29/100\n",
      "118/118 [==============================] - 40s 334ms/step - loss: 0.1178 - accuracy: 0.9544 - val_loss: 0.5489 - val_accuracy: 0.8416\n",
      "Epoch 30/100\n",
      "118/118 [==============================] - 39s 332ms/step - loss: 0.1022 - accuracy: 0.9647 - val_loss: 0.8009 - val_accuracy: 0.8119\n",
      "Epoch 31/100\n",
      "118/118 [==============================] - 40s 338ms/step - loss: 0.1231 - accuracy: 0.9586 - val_loss: 0.4841 - val_accuracy: 0.8416\n",
      "Epoch 32/100\n",
      "118/118 [==============================] - 39s 329ms/step - loss: 0.0856 - accuracy: 0.9692 - val_loss: 0.4971 - val_accuracy: 0.8416\n",
      "Epoch 33/100\n",
      "118/118 [==============================] - 39s 327ms/step - loss: 0.1113 - accuracy: 0.9597 - val_loss: 0.6639 - val_accuracy: 0.8020\n",
      "Epoch 34/100\n",
      "118/118 [==============================] - 39s 327ms/step - loss: 0.0777 - accuracy: 0.9708 - val_loss: 0.6366 - val_accuracy: 0.8515\n",
      "Epoch 35/100\n",
      "118/118 [==============================] - 39s 332ms/step - loss: 0.0782 - accuracy: 0.9738 - val_loss: 0.6581 - val_accuracy: 0.8416\n",
      "Epoch 36/100\n",
      "118/118 [==============================] - 39s 328ms/step - loss: 0.0875 - accuracy: 0.9669 - val_loss: 0.6165 - val_accuracy: 0.8218\n",
      "Epoch 37/100\n",
      "118/118 [==============================] - 39s 327ms/step - loss: 0.0622 - accuracy: 0.9759 - val_loss: 0.7491 - val_accuracy: 0.8416\n",
      "Epoch 38/100\n",
      "118/118 [==============================] - 39s 330ms/step - loss: 0.0895 - accuracy: 0.9677 - val_loss: 0.5780 - val_accuracy: 0.8416\n",
      "Epoch 39/100\n",
      "118/118 [==============================] - 39s 331ms/step - loss: 0.0558 - accuracy: 0.9804 - val_loss: 0.6917 - val_accuracy: 0.8020\n",
      "Epoch 40/100\n",
      "118/118 [==============================] - 39s 329ms/step - loss: 0.0654 - accuracy: 0.9769 - val_loss: 0.6291 - val_accuracy: 0.8416\n",
      "Epoch 41/100\n",
      "118/118 [==============================] - 39s 328ms/step - loss: 0.0932 - accuracy: 0.9616 - val_loss: 0.6125 - val_accuracy: 0.8713\n",
      "Epoch 42/100\n",
      "118/118 [==============================] - 39s 327ms/step - loss: 0.0829 - accuracy: 0.9735 - val_loss: 0.6940 - val_accuracy: 0.8317\n",
      "Epoch 43/100\n",
      "118/118 [==============================] - 39s 327ms/step - loss: 0.0687 - accuracy: 0.9775 - val_loss: 0.5651 - val_accuracy: 0.8416\n",
      "Epoch 44/100\n",
      "118/118 [==============================] - 40s 340ms/step - loss: 0.0647 - accuracy: 0.9772 - val_loss: 0.5960 - val_accuracy: 0.8317\n",
      "Epoch 45/100\n",
      "118/118 [==============================] - 39s 332ms/step - loss: 0.0865 - accuracy: 0.9666 - val_loss: 0.8508 - val_accuracy: 0.8119\n",
      "Epoch 46/100\n",
      "118/118 [==============================] - 39s 329ms/step - loss: 0.0652 - accuracy: 0.9791 - val_loss: 0.7790 - val_accuracy: 0.8020\n",
      "Epoch 47/100\n",
      "118/118 [==============================] - 40s 336ms/step - loss: 0.0567 - accuracy: 0.9817 - val_loss: 0.6181 - val_accuracy: 0.8416\n",
      "Epoch 48/100\n",
      "118/118 [==============================] - 39s 330ms/step - loss: 0.0587 - accuracy: 0.9801 - val_loss: 0.4378 - val_accuracy: 0.8713\n",
      "Epoch 49/100\n",
      "118/118 [==============================] - 39s 328ms/step - loss: 0.0412 - accuracy: 0.9862 - val_loss: 0.5544 - val_accuracy: 0.8317\n",
      "Epoch 50/100\n",
      "118/118 [==============================] - 39s 328ms/step - loss: 0.0627 - accuracy: 0.9806 - val_loss: 0.6957 - val_accuracy: 0.8515\n",
      "Epoch 51/100\n",
      "118/118 [==============================] - 39s 327ms/step - loss: 0.0788 - accuracy: 0.9714 - val_loss: 0.4903 - val_accuracy: 0.8911\n",
      "Epoch 52/100\n",
      "118/118 [==============================] - 39s 332ms/step - loss: 0.0892 - accuracy: 0.9690 - val_loss: 0.6555 - val_accuracy: 0.8515\n",
      "Epoch 53/100\n",
      "118/118 [==============================] - 39s 328ms/step - loss: 0.0571 - accuracy: 0.9804 - val_loss: 0.7318 - val_accuracy: 0.8218\n",
      "Epoch 54/100\n",
      "118/118 [==============================] - 39s 328ms/step - loss: 0.0832 - accuracy: 0.9690 - val_loss: 0.9054 - val_accuracy: 0.8020\n",
      "Epoch 55/100\n",
      "118/118 [==============================] - 39s 329ms/step - loss: 0.2027 - accuracy: 0.9374 - val_loss: 0.9489 - val_accuracy: 0.7822\n",
      "Epoch 56/100\n",
      "118/118 [==============================] - 39s 331ms/step - loss: 0.1277 - accuracy: 0.9573 - val_loss: 0.6908 - val_accuracy: 0.8614\n"
     ]
    },
    {
     "name": "stdout",
     "output_type": "stream",
     "text": [
      "Epoch 57/100\n",
      "118/118 [==============================] - 39s 328ms/step - loss: 0.0552 - accuracy: 0.9806 - val_loss: 0.8073 - val_accuracy: 0.8416\n",
      "Epoch 58/100\n",
      "118/118 [==============================] - 39s 329ms/step - loss: 0.0469 - accuracy: 0.9852 - val_loss: 0.7387 - val_accuracy: 0.8416\n",
      "Epoch 59/100\n",
      "118/118 [==============================] - 39s 332ms/step - loss: 0.0622 - accuracy: 0.9804 - val_loss: 0.7276 - val_accuracy: 0.8416\n",
      "Epoch 60/100\n",
      "118/118 [==============================] - 39s 330ms/step - loss: 0.0479 - accuracy: 0.9833 - val_loss: 0.5894 - val_accuracy: 0.8614\n",
      "Epoch 61/100\n",
      "118/118 [==============================] - 39s 330ms/step - loss: 0.1017 - accuracy: 0.9645 - val_loss: 0.7782 - val_accuracy: 0.8416\n",
      "Epoch 62/100\n",
      "118/118 [==============================] - 39s 327ms/step - loss: 0.0652 - accuracy: 0.9761 - val_loss: 0.7227 - val_accuracy: 0.8614\n",
      "Epoch 63/100\n",
      "118/118 [==============================] - 39s 328ms/step - loss: 0.0938 - accuracy: 0.9682 - val_loss: 0.8090 - val_accuracy: 0.8317\n",
      "Epoch 64/100\n",
      "118/118 [==============================] - 39s 327ms/step - loss: 0.0730 - accuracy: 0.9740 - val_loss: 0.8804 - val_accuracy: 0.8119\n",
      "Epoch 65/100\n",
      "118/118 [==============================] - 39s 328ms/step - loss: 0.0416 - accuracy: 0.9849 - val_loss: 0.7319 - val_accuracy: 0.8713\n",
      "Epoch 66/100\n",
      "118/118 [==============================] - 39s 329ms/step - loss: 0.0440 - accuracy: 0.9854 - val_loss: 0.7652 - val_accuracy: 0.8416\n",
      "Epoch 67/100\n",
      "118/118 [==============================] - 39s 328ms/step - loss: 0.0582 - accuracy: 0.9772 - val_loss: 0.7921 - val_accuracy: 0.8218\n",
      "Epoch 68/100\n",
      "118/118 [==============================] - 39s 327ms/step - loss: 0.0845 - accuracy: 0.9748 - val_loss: 0.7989 - val_accuracy: 0.8218\n",
      "Epoch 69/100\n",
      "118/118 [==============================] - 39s 330ms/step - loss: 0.0518 - accuracy: 0.9838 - val_loss: 0.7331 - val_accuracy: 0.8515\n",
      "Epoch 70/100\n",
      "118/118 [==============================] - 39s 328ms/step - loss: 0.0441 - accuracy: 0.9854 - val_loss: 0.8230 - val_accuracy: 0.8317\n",
      "Epoch 71/100\n",
      "118/118 [==============================] - 39s 327ms/step - loss: 0.0641 - accuracy: 0.9804 - val_loss: 0.7000 - val_accuracy: 0.8911\n",
      "Epoch 72/100\n",
      "118/118 [==============================] - 39s 327ms/step - loss: 0.0393 - accuracy: 0.9873 - val_loss: 0.6439 - val_accuracy: 0.8614\n",
      "Epoch 73/100\n",
      "118/118 [==============================] - 39s 328ms/step - loss: 0.0521 - accuracy: 0.9806 - val_loss: 0.7178 - val_accuracy: 0.8515\n",
      "Epoch 74/100\n",
      "118/118 [==============================] - 39s 328ms/step - loss: 0.0710 - accuracy: 0.9756 - val_loss: 0.8660 - val_accuracy: 0.8713\n",
      "Epoch 75/100\n",
      "118/118 [==============================] - 39s 330ms/step - loss: 0.0739 - accuracy: 0.9785 - val_loss: 0.7825 - val_accuracy: 0.8416\n",
      "Epoch 76/100\n",
      "118/118 [==============================] - 40s 335ms/step - loss: 0.1388 - accuracy: 0.9600 - val_loss: 0.7452 - val_accuracy: 0.8416\n",
      "Epoch 77/100\n",
      "118/118 [==============================] - 39s 328ms/step - loss: 0.0496 - accuracy: 0.9870 - val_loss: 0.7044 - val_accuracy: 0.8416\n",
      "Epoch 78/100\n",
      "118/118 [==============================] - 39s 328ms/step - loss: 0.0663 - accuracy: 0.9764 - val_loss: 0.5762 - val_accuracy: 0.8911\n",
      "Epoch 79/100\n",
      "118/118 [==============================] - 39s 327ms/step - loss: 0.0818 - accuracy: 0.9716 - val_loss: 0.5090 - val_accuracy: 0.8812\n",
      "Epoch 80/100\n",
      "118/118 [==============================] - 39s 328ms/step - loss: 0.0439 - accuracy: 0.9859 - val_loss: 0.7503 - val_accuracy: 0.8515\n",
      "Epoch 81/100\n",
      "118/118 [==============================] - 39s 330ms/step - loss: 0.0540 - accuracy: 0.9799 - val_loss: 0.8916 - val_accuracy: 0.8317\n",
      "Epoch 82/100\n",
      "118/118 [==============================] - 40s 334ms/step - loss: 0.0364 - accuracy: 0.9867 - val_loss: 0.8600 - val_accuracy: 0.8515\n",
      "Epoch 83/100\n",
      "118/118 [==============================] - 39s 328ms/step - loss: 0.0526 - accuracy: 0.9822 - val_loss: 0.8757 - val_accuracy: 0.8614\n",
      "Epoch 84/100\n",
      "118/118 [==============================] - 39s 328ms/step - loss: 0.0512 - accuracy: 0.9809 - val_loss: 0.7800 - val_accuracy: 0.8614\n",
      "Epoch 85/100\n",
      "118/118 [==============================] - 39s 326ms/step - loss: 0.0474 - accuracy: 0.9801 - val_loss: 0.8013 - val_accuracy: 0.8713\n",
      "Epoch 86/100\n",
      "118/118 [==============================] - 39s 326ms/step - loss: 0.0750 - accuracy: 0.9748 - val_loss: 0.7829 - val_accuracy: 0.8713\n",
      "Epoch 87/100\n",
      "118/118 [==============================] - 40s 339ms/step - loss: 0.0485 - accuracy: 0.9833 - val_loss: 0.8043 - val_accuracy: 0.8317\n",
      "Epoch 88/100\n",
      "118/118 [==============================] - 40s 334ms/step - loss: 0.0381 - accuracy: 0.9870 - val_loss: 0.7753 - val_accuracy: 0.8515\n",
      "Epoch 89/100\n",
      "118/118 [==============================] - 40s 336ms/step - loss: 0.0519 - accuracy: 0.9838 - val_loss: 0.6775 - val_accuracy: 0.8515\n",
      "Epoch 90/100\n",
      "118/118 [==============================] - 40s 334ms/step - loss: 0.0457 - accuracy: 0.9844 - val_loss: 0.7107 - val_accuracy: 0.8614\n",
      "Epoch 91/100\n",
      "118/118 [==============================] - 40s 337ms/step - loss: 0.0510 - accuracy: 0.9849 - val_loss: 0.7798 - val_accuracy: 0.8515\n",
      "Epoch 92/100\n",
      "118/118 [==============================] - 40s 336ms/step - loss: 0.0804 - accuracy: 0.9751 - val_loss: 0.7177 - val_accuracy: 0.8614\n",
      "Epoch 93/100\n",
      "118/118 [==============================] - 40s 338ms/step - loss: 0.0498 - accuracy: 0.9838 - val_loss: 0.8384 - val_accuracy: 0.8218\n",
      "Epoch 94/100\n",
      "118/118 [==============================] - 40s 337ms/step - loss: 0.0437 - accuracy: 0.9870 - val_loss: 0.6750 - val_accuracy: 0.8812\n",
      "Epoch 95/100\n",
      "118/118 [==============================] - 40s 335ms/step - loss: 0.0497 - accuracy: 0.9846 - val_loss: 0.8336 - val_accuracy: 0.8515\n",
      "Epoch 96/100\n",
      "118/118 [==============================] - 40s 336ms/step - loss: 0.0361 - accuracy: 0.9891 - val_loss: 0.7212 - val_accuracy: 0.8515\n",
      "Epoch 97/100\n",
      "118/118 [==============================] - 40s 341ms/step - loss: 0.0334 - accuracy: 0.9878 - val_loss: 0.7184 - val_accuracy: 0.8713\n",
      "Epoch 98/100\n",
      "118/118 [==============================] - 40s 335ms/step - loss: 0.0421 - accuracy: 0.9857 - val_loss: 0.6715 - val_accuracy: 0.8614\n",
      "Epoch 99/100\n",
      "118/118 [==============================] - 40s 339ms/step - loss: 0.0465 - accuracy: 0.9844 - val_loss: 0.8260 - val_accuracy: 0.8317\n",
      "Epoch 100/100\n",
      "118/118 [==============================] - 40s 336ms/step - loss: 0.0768 - accuracy: 0.9743 - val_loss: 0.6911 - val_accuracy: 0.8515\n"
     ]
    }
   ],
   "source": [
    "r = model.fit(\n",
    "training_set,\n",
    "validation_data=test_set,\n",
    "epochs=100,\n",
    "steps_per_epoch=len(training_set),\n",
    "validation_steps=len(test_set)\n",
    ")"
   ]
  },
  {
   "cell_type": "code",
   "execution_count": 15,
   "metadata": {},
   "outputs": [],
   "source": [
    "from tensorflow.keras.models import load_model\n",
    "\n",
    "model.save('modelV9.h5')\n",
    "\n",
    "#model = load_model('modelV3.h5')"
   ]
  },
  {
   "cell_type": "code",
   "execution_count": 16,
   "metadata": {},
   "outputs": [],
   "source": [
    "y_pred = model.predict(test_set)"
   ]
  },
  {
   "cell_type": "code",
   "execution_count": 17,
   "metadata": {
    "scrolled": true
   },
   "outputs": [
    {
     "data": {
      "text/plain": [
       "array([[1.44463990e-13, 6.11129310e-03, 9.93888736e-01, 3.93455997e-11,\n",
       "        1.76297891e-16],\n",
       "       [2.05642791e-04, 9.10091694e-06, 4.13134327e-09, 9.93474275e-02,\n",
       "        9.00437772e-01],\n",
       "       [2.88878557e-08, 2.23389929e-04, 9.99776542e-01, 8.27868796e-09,\n",
       "        2.81931661e-12],\n",
       "       [3.24602850e-04, 2.33050068e-09, 4.98764393e-07, 9.99021292e-01,\n",
       "        6.53624185e-04],\n",
       "       [2.97148836e-05, 2.94208126e-12, 4.45308894e-11, 9.99970317e-01,\n",
       "        1.09569853e-10],\n",
       "       [2.92166053e-12, 9.99909759e-01, 9.01895182e-05, 1.17340664e-12,\n",
       "        4.79224679e-14],\n",
       "       [1.29265876e-10, 3.95952142e-08, 1.00000000e+00, 1.03118469e-15,\n",
       "        2.04469809e-11],\n",
       "       [2.27972846e-17, 9.99972105e-01, 2.78853295e-05, 1.93547205e-08,\n",
       "        7.01514194e-12],\n",
       "       [1.09412167e-11, 4.59659368e-01, 5.40338635e-01, 1.99450415e-06,\n",
       "        5.22344537e-12],\n",
       "       [2.31433492e-12, 4.12022061e-08, 1.00000000e+00, 2.21543517e-14,\n",
       "        1.90700222e-19],\n",
       "       [4.35800274e-07, 9.25084949e-03, 3.74950737e-01, 6.15797937e-01,\n",
       "        2.49474351e-13],\n",
       "       [1.32415949e-17, 1.75852426e-06, 9.99998212e-01, 3.17431500e-16,\n",
       "        2.91917498e-18],\n",
       "       [4.32481238e-06, 4.58814302e-14, 4.51664331e-16, 2.85728731e-07,\n",
       "        9.99995351e-01],\n",
       "       [1.39746922e-10, 8.55159765e-09, 1.42966194e-11, 8.99122097e-04,\n",
       "        9.99100924e-01],\n",
       "       [5.31428253e-22, 9.99999046e-01, 9.49480807e-07, 9.51608150e-13,\n",
       "        1.76349651e-14],\n",
       "       [2.40371308e-12, 9.99655604e-01, 3.44344939e-04, 1.17309957e-08,\n",
       "        1.69310316e-14],\n",
       "       [7.83955504e-04, 4.53951070e-04, 3.85391322e-05, 3.49951186e-03,\n",
       "        9.95224059e-01],\n",
       "       [3.75754705e-10, 1.43779602e-04, 9.99855995e-01, 2.58234365e-07,\n",
       "        1.31598356e-12],\n",
       "       [5.44252921e-16, 7.56215159e-14, 1.00000000e+00, 5.02577942e-18,\n",
       "        1.97681868e-21],\n",
       "       [1.47917043e-11, 6.96142024e-08, 9.99999881e-01, 1.40201528e-09,\n",
       "        1.08285325e-11],\n",
       "       [9.99805987e-01, 1.53543579e-06, 6.49902688e-07, 1.70533138e-04,\n",
       "        2.13356707e-05],\n",
       "       [1.83179188e-12, 9.99995947e-01, 4.07773996e-06, 5.71592947e-12,\n",
       "        1.24464274e-12],\n",
       "       [9.86349404e-01, 3.32471564e-06, 7.69670578e-07, 1.36465067e-02,\n",
       "        2.38936213e-08],\n",
       "       [3.56993526e-01, 2.50808929e-09, 1.28297928e-10, 6.28650844e-01,\n",
       "        1.43556586e-02],\n",
       "       [1.57642888e-09, 9.78193164e-01, 2.11999323e-02, 6.06948044e-04,\n",
       "        3.05020397e-15],\n",
       "       [1.09357554e-08, 9.99998212e-01, 1.90596680e-07, 1.57865236e-06,\n",
       "        1.10626459e-10],\n",
       "       [5.71418845e-04, 1.45726585e-06, 3.03162669e-04, 9.99123991e-01,\n",
       "        3.44007560e-08],\n",
       "       [3.39957644e-08, 7.32225658e-07, 1.63599734e-09, 2.75814906e-03,\n",
       "        9.97241139e-01],\n",
       "       [5.37622480e-09, 1.96921860e-07, 5.23259436e-10, 3.36968270e-07,\n",
       "        9.99999404e-01],\n",
       "       [1.20927435e-09, 9.03712809e-02, 9.08085406e-01, 1.54334679e-03,\n",
       "        1.41257131e-10],\n",
       "       [3.51781146e-08, 9.89813626e-01, 1.00482181e-02, 1.37582756e-04,\n",
       "        6.37370363e-07],\n",
       "       [3.67393455e-04, 4.98525985e-08, 1.31971256e-09, 9.99611437e-01,\n",
       "        2.11164806e-05],\n",
       "       [9.99310374e-01, 2.18071936e-10, 8.51444355e-08, 6.66901935e-04,\n",
       "        2.26616612e-05],\n",
       "       [7.28198668e-10, 2.70528439e-02, 9.72946882e-01, 2.51460477e-07,\n",
       "        1.77100487e-10],\n",
       "       [1.25243613e-14, 2.66464436e-14, 1.08347035e-16, 1.00000000e+00,\n",
       "        4.14287805e-11],\n",
       "       [7.86684329e-11, 1.50053836e-06, 9.99998450e-01, 2.88721758e-08,\n",
       "        3.20525379e-19],\n",
       "       [2.20952085e-14, 9.99997139e-01, 2.85470674e-06, 1.10024868e-15,\n",
       "        3.96374403e-18],\n",
       "       [5.13676147e-04, 1.11060362e-11, 4.37160811e-12, 9.99486327e-01,\n",
       "        1.22830755e-13],\n",
       "       [9.99957204e-01, 4.47638454e-13, 1.24855770e-09, 4.28116837e-05,\n",
       "        2.24622720e-09],\n",
       "       [1.36282847e-15, 6.36585010e-03, 9.93634105e-01, 3.03078345e-08,\n",
       "        3.11860997e-12],\n",
       "       [3.42616713e-10, 1.65447767e-10, 1.07407272e-21, 1.00000000e+00,\n",
       "        1.26046369e-15],\n",
       "       [8.61777139e-09, 8.95664096e-01, 8.64923277e-05, 1.04249403e-01,\n",
       "        7.43579070e-12],\n",
       "       [2.00031817e-01, 6.51423305e-13, 2.79586467e-13, 7.99968183e-01,\n",
       "        1.52248124e-14],\n",
       "       [5.78768195e-05, 9.46244971e-10, 4.20949942e-09, 9.99939919e-01,\n",
       "        2.15776572e-06],\n",
       "       [1.07773612e-09, 2.84343810e-14, 1.49518266e-15, 3.56533860e-08,\n",
       "        1.00000000e+00],\n",
       "       [4.60597962e-01, 3.80653342e-10, 4.84250640e-09, 5.38759649e-01,\n",
       "        6.42349303e-04],\n",
       "       [3.96050273e-05, 9.99879122e-01, 4.93009829e-08, 5.74651402e-08,\n",
       "        8.11764767e-05],\n",
       "       [4.78449606e-11, 9.97971237e-01, 2.01635226e-03, 1.23894470e-05,\n",
       "        8.94292896e-15],\n",
       "       [1.27963608e-06, 1.19699151e-09, 1.39812077e-12, 9.99998689e-01,\n",
       "        9.89834867e-16],\n",
       "       [1.70020598e-09, 7.27585473e-16, 2.00017897e-16, 9.39198159e-08,\n",
       "        9.99999881e-01],\n",
       "       [1.40220138e-08, 2.71361500e-01, 7.27752388e-01, 8.86133173e-04,\n",
       "        8.00846889e-12],\n",
       "       [8.82550694e-07, 9.27519023e-01, 7.24530965e-02, 2.69800639e-05,\n",
       "        1.41193576e-16],\n",
       "       [3.99057178e-14, 4.39704663e-17, 3.29138296e-21, 3.14139932e-08,\n",
       "        1.00000000e+00],\n",
       "       [1.10585801e-03, 9.70096252e-08, 2.05508604e-06, 9.97777522e-01,\n",
       "        1.11452723e-03],\n",
       "       [9.70552946e-07, 9.45130818e-09, 3.19300741e-09, 9.99999046e-01,\n",
       "        4.72271571e-12],\n",
       "       [4.48700301e-02, 9.89611948e-08, 1.24839971e-12, 9.55129921e-01,\n",
       "        1.26778055e-09],\n",
       "       [9.99961257e-01, 8.42016903e-15, 1.28407296e-16, 3.87381224e-05,\n",
       "        1.37109393e-14],\n",
       "       [5.22354275e-14, 1.95461848e-18, 5.10626781e-18, 8.73678734e-13,\n",
       "        1.00000000e+00],\n",
       "       [9.99994278e-01, 9.22330017e-08, 1.23047482e-06, 4.24789414e-06,\n",
       "        1.03225155e-07],\n",
       "       [1.81534742e-05, 3.67878599e-08, 4.40260838e-13, 7.14735361e-03,\n",
       "        9.92834449e-01],\n",
       "       [8.57904017e-01, 6.82532086e-11, 4.21730147e-06, 1.42091736e-01,\n",
       "        2.45653775e-10],\n",
       "       [3.07508579e-08, 7.66871189e-09, 7.33646130e-12, 1.00000000e+00,\n",
       "        8.85607560e-13],\n",
       "       [8.86161171e-04, 1.04532692e-14, 3.26639658e-08, 9.99113858e-01,\n",
       "        3.05935804e-10],\n",
       "       [4.43948724e-04, 1.13336569e-10, 1.26078536e-09, 9.59607041e-06,\n",
       "        9.99546468e-01],\n",
       "       [2.78108135e-12, 7.07380464e-21, 1.52085913e-18, 2.96927254e-07,\n",
       "        9.99999762e-01],\n",
       "       [1.58547184e-08, 7.59086443e-18, 1.98066975e-12, 1.53618407e-09,\n",
       "        1.00000000e+00],\n",
       "       [1.35632501e-08, 4.42805452e-16, 2.10745622e-11, 1.00000000e+00,\n",
       "        5.07659470e-09],\n",
       "       [4.31793534e-09, 1.08849795e-19, 5.36958298e-18, 2.38186261e-13,\n",
       "        1.00000000e+00],\n",
       "       [3.03918096e-05, 3.14144023e-11, 5.41716032e-13, 7.54798343e-03,\n",
       "        9.92421687e-01],\n",
       "       [8.78904630e-18, 1.00000000e+00, 4.98273600e-09, 6.53159896e-15,\n",
       "        1.39624758e-18],\n",
       "       [6.79649711e-02, 1.99823144e-12, 8.40999752e-12, 9.32033479e-01,\n",
       "        1.51560482e-06],\n",
       "       [2.48837886e-12, 9.99823868e-01, 1.75330846e-04, 8.09060452e-07,\n",
       "        3.78812919e-11],\n",
       "       [1.01133082e-07, 3.50395203e-01, 6.49454057e-01, 1.50628752e-04,\n",
       "        1.93155333e-13],\n",
       "       [2.25267131e-11, 5.70868650e-08, 1.00000000e+00, 2.54157437e-14,\n",
       "        2.27980222e-12],\n",
       "       [4.52576159e-03, 7.34970788e-04, 2.70185092e-06, 9.94646847e-01,\n",
       "        8.96977144e-05],\n",
       "       [2.57283148e-07, 4.41299051e-08, 2.62708193e-12, 1.21558082e-06,\n",
       "        9.99998450e-01],\n",
       "       [8.23314667e-01, 4.44259087e-04, 1.21039799e-12, 9.00244862e-02,\n",
       "        8.62166584e-02],\n",
       "       [2.55167350e-07, 3.98493896e-08, 7.01855947e-16, 3.49395073e-08,\n",
       "        9.99999642e-01],\n",
       "       [8.50020697e-16, 1.00000000e+00, 5.41377082e-11, 1.42744635e-14,\n",
       "        2.96741060e-20],\n",
       "       [6.16544966e-12, 3.29746612e-08, 9.99997377e-01, 2.62358685e-06,\n",
       "        4.45474074e-10],\n",
       "       [7.80742693e-11, 9.99985337e-01, 8.83823486e-06, 5.79351945e-06,\n",
       "        2.21159245e-12],\n",
       "       [4.30932194e-16, 1.00000000e+00, 1.36454054e-15, 3.50515884e-12,\n",
       "        3.24820757e-17],\n",
       "       [3.35122294e-12, 3.86470196e-12, 1.42953398e-13, 1.00000000e+00,\n",
       "        3.83417987e-16],\n",
       "       [8.56127791e-09, 2.58254707e-01, 7.41434395e-01, 2.21420865e-04,\n",
       "        8.94207406e-05],\n",
       "       [9.69361845e-25, 1.00000000e+00, 3.28133571e-13, 8.82715745e-16,\n",
       "        2.79998132e-24],\n",
       "       [8.68293881e-01, 8.88682989e-05, 1.85774588e-05, 1.31598681e-01,\n",
       "        4.52315270e-08],\n",
       "       [2.30389124e-10, 9.99990821e-01, 9.19842660e-06, 2.23575568e-11,\n",
       "        5.45151368e-10],\n",
       "       [1.09914383e-14, 9.99999046e-01, 9.44744215e-07, 3.20414246e-12,\n",
       "        1.06109083e-17],\n",
       "       [6.16784998e-13, 5.26606385e-08, 1.00000000e+00, 2.64802520e-11,\n",
       "        3.09532606e-17],\n",
       "       [2.44864941e-01, 6.80099727e-11, 4.76977242e-11, 2.22411454e-01,\n",
       "        5.32723606e-01],\n",
       "       [1.39060162e-03, 3.01074654e-09, 6.46913918e-08, 9.98609304e-01,\n",
       "        3.32247424e-10],\n",
       "       [1.24253987e-07, 3.07864879e-11, 5.22225818e-10, 9.99999881e-01,\n",
       "        2.70851025e-15],\n",
       "       [5.19910753e-01, 2.50993235e-08, 1.12610032e-09, 4.80089188e-01,\n",
       "        3.96933046e-08],\n",
       "       [5.62452654e-11, 2.66399505e-17, 4.07281732e-15, 3.19695488e-08,\n",
       "        1.00000000e+00],\n",
       "       [3.11012150e-06, 1.97505827e-07, 5.72116414e-06, 1.42064650e-07,\n",
       "        9.99990821e-01],\n",
       "       [9.18240417e-09, 6.84812814e-02, 7.11742905e-05, 9.31447506e-01,\n",
       "        1.58676787e-08],\n",
       "       [2.87088197e-13, 9.99999404e-01, 5.70353222e-07, 3.80695919e-09,\n",
       "        5.47614948e-12],\n",
       "       [6.78197338e-08, 4.58723903e-09, 3.46677744e-14, 9.99999881e-01,\n",
       "        1.01339759e-09],\n",
       "       [4.79595883e-06, 3.09731184e-14, 1.15321522e-12, 9.99995232e-01,\n",
       "        7.87613692e-16]], dtype=float32)"
      ]
     },
     "execution_count": 17,
     "metadata": {},
     "output_type": "execute_result"
    }
   ],
   "source": [
    "y_pred"
   ]
  },
  {
   "cell_type": "code",
   "execution_count": 18,
   "metadata": {},
   "outputs": [],
   "source": [
    "import numpy as np\n",
    "y_pred = np.argmax(y_pred, axis=1)"
   ]
  },
  {
   "cell_type": "code",
   "execution_count": 19,
   "metadata": {},
   "outputs": [
    {
     "data": {
      "text/plain": [
       "array([2, 4, 2, 3, 3, 1, 2, 1, 2, 2, 3, 2, 4, 4, 1, 1, 4, 2, 2, 2, 0, 1,\n",
       "       0, 3, 1, 1, 3, 4, 4, 2, 1, 3, 0, 2, 3, 2, 1, 3, 0, 2, 3, 1, 3, 3,\n",
       "       4, 3, 1, 1, 3, 4, 2, 1, 4, 3, 3, 3, 0, 4, 0, 4, 0, 3, 3, 4, 4, 4,\n",
       "       3, 4, 4, 1, 3, 1, 2, 2, 3, 4, 0, 4, 1, 2, 1, 1, 3, 2, 1, 0, 1, 1,\n",
       "       2, 4, 3, 3, 0, 4, 4, 3, 1, 3, 3], dtype=int64)"
      ]
     },
     "execution_count": 19,
     "metadata": {},
     "output_type": "execute_result"
    }
   ],
   "source": [
    "y_pred"
   ]
  },
  {
   "cell_type": "code",
   "execution_count": 20,
   "metadata": {},
   "outputs": [],
   "source": [
    "#img = image.load_img('Test/ferrari/00701.jpg', target_size=(224,224))"
   ]
  },
  {
   "cell_type": "code",
   "execution_count": 21,
   "metadata": {},
   "outputs": [],
   "source": [
    "#x = image.img_to_array(img)"
   ]
  },
  {
   "cell_type": "code",
   "execution_count": 22,
   "metadata": {},
   "outputs": [
    {
     "data": {
      "image/png": "[encoded data removed]",
      "text/plain": [
       "<Figure size 432x288 with 2 Axes>"
      ]
     },
     "metadata": {
      "needs_background": "light"
     },
     "output_type": "display_data"
    }
   ],
   "source": [
    "from sklearn.metrics import ConfusionMatrixDisplay\n",
    "from sklearn.metrics import confusion_matrix\n",
    "import matplotlib.pyplot as plt\n",
    "\n",
    "labels = [\"Allion\", \"Caravan\", \"Hiace\", \"Premio\", \"Vezel\"]\n",
    "cm = confusion_matrix(test_set.classes, y_pred)\n",
    "\n",
    "disp = ConfusionMatrixDisplay(confusion_matrix=cm, display_labels=labels)\n",
    "\n",
    "disp.plot(cmap=plt.cm.Blues)\n",
    "plt.show()"
   ]
  },
  {
   "cell_type": "code",
   "execution_count": null,
   "metadata": {},
   "outputs": [],
   "source": [
    "x.shape"
   ]
  },
  {
   "cell_type": "code",
   "execution_count": null,
   "metadata": {},
   "outputs": [],
   "source": [
    "x = x / 255"
   ]
  },
  {
   "cell_type": "code",
   "execution_count": null,
   "metadata": {},
   "outputs": [],
   "source": [
    "x"
   ]
  },
  {
   "cell_type": "code",
   "execution_count": null,
   "metadata": {},
   "outputs": [],
   "source": [
    "#x = np.expand_dims(x, axis = 0)\n",
    "#img_data = preprocess_input(x)\n",
    "#img_data.shape"
   ]
  },
  {
   "cell_type": "code",
   "execution_count": null,
   "metadata": {},
   "outputs": [],
   "source": [
    "model.predict(img_data)"
   ]
  },
  {
   "cell_type": "code",
   "execution_count": null,
   "metadata": {},
   "outputs": [],
   "source": [
    "a = np.argmax(model.predict(img_data), axis=1)"
   ]
  },
  {
   "cell_type": "code",
   "execution_count": null,
   "metadata": {},
   "outputs": [],
   "source": [
    "a"
   ]
  },
  {
   "cell_type": "code",
   "execution_count": null,
   "metadata": {},
   "outputs": [],
   "source": []
  },
  {
   "cell_type": "code",
   "execution_count": null,
   "metadata": {},
   "outputs": [],
   "source": []
  }
 ],
 "metadata": {
  "kernelspec": {
   "display_name": "Python 3 (ipykernel)",
   "language": "python",
   "name": "python3"
  },
  "language_info": {
   "codemirror_mode": {
    "name": "ipython",
    "version": 3
   },
   "file_extension": ".py",
   "mimetype": "text/x-python",
   "name": "python",
   "nbconvert_exporter": "python",
   "pygments_lexer": "ipython3",
   "version": "3.8.11"
  }
 },
 "nbformat": 4,
 "nbformat_minor": 4
}
